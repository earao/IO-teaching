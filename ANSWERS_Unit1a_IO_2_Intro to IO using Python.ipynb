{
 "cells": [
  {
   "cell_type": "markdown",
   "metadata": {
    "collapsed": true,
    "jupyter": {
     "outputs_hidden": true
    }
   },
   "source": [
    "\n",
    "# Introduction to input-output analysis using Python\n",
    "\n",
    "Author: <a href=\"mailto:a.owen@leeds.ac.uk\"> Dr Anne Owen </a> \n",
    "\n",
    "The general structure of an input-output table is:\n",
    "\n",
    "\n",
    "<img src=\"https://user-images.githubusercontent.com/24877051/146377849-723d8122-7e2a-4d0b-b45c-f8351c4fcbb8.png\" width=400 height=400 />\n",
    "\n",
    "\n",
    "Consider this very simple model of the economies of <a href=\"https://parksandrecreation.fandom.com/wiki/Pawnee,_Indiana\"> the town of Pawnee</a> and <a href=\"https://parksandrecreation.fandom.com/wiki/Eagleton,_Indiana\"> the town of Eagleton</a><sup>*</sup>:\n",
    "\n",
    "<img src=\"https://github.com/earao/images/blob/main/Picture%201.png?raw=true\" width=600 height=470 />\n",
    "\n",
    "We are going to use the above data to find the GHG emissions for:\n",
    "\n",
    "<ul>\n",
    "  <li>Eagleton's Production</li>\n",
    "  <li>Pawnee's Production</li>\n",
    "  <li>Eagleton's Consumption</li>\n",
    "  <li>Pawnee's Consumption</li>\n",
    "</ul>\n",
    "\n",
    "\n",
    "But, before we start, paste the following into the box below:\n",
    "\n",
    "```python\n",
    "import matplotlib as plt\n",
    "import numpy as np\n",
    "import pandas as pd\n",
    "%config InteractiveShell.ast_node_interactivity='last_expr_or_assign'\n",
    "%precision 2\n",
    "```\n",
    "\n",
    "<sup>*</sup>Knowledge of <a href=\"https://parksandrecreation.fandom.com/wiki/Main_Page\"> the TV show Parks & Recreation</a> not required for this module"
   ]
  },
  {
   "cell_type": "code",
   "execution_count": 1,
   "metadata": {},
   "outputs": [
    {
     "data": {
      "text/plain": [
       "'%.2f'"
      ]
     },
     "execution_count": 1,
     "metadata": {},
     "output_type": "execute_result"
    }
   ],
   "source": [
    "import matplotlib as plt\n",
    "import numpy as np\n",
    "import pandas as pd\n",
    "%config InteractiveShell.ast_node_interactivity='last_expr_or_assign'\n",
    "%precision 2"
   ]
  },
  {
   "cell_type": "markdown",
   "metadata": {},
   "source": [
    "# 1. Constructing the dataset in Python\n",
    "\n",
    "## Exercise 1.1: Make arrays for Z,Y and f\n",
    "\n",
    "In Python use the following code to make the array $\\textbf{Z}$\n",
    "\n",
    "```python\n",
    "Z_data = np.array([[660,10,2,30,1,1],\n",
    "                   [300,500,100,20,30,20],\n",
    "                   [200,400,300,10,30,100],\n",
    "                   [40,2,1,440,20,2],\n",
    "                   [20,200,200,140,400,90],\n",
    "                   [10,30,200,200,200,200]])\n",
    "```"
   ]
  },
  {
   "cell_type": "code",
   "execution_count": 2,
   "metadata": {},
   "outputs": [
    {
     "data": {
      "text/plain": [
       "array([[660,  10,   2,  30,   1,   1],\n",
       "       [300, 500, 100,  20,  30,  20],\n",
       "       [200, 400, 300,  10,  30, 100],\n",
       "       [ 40,   2,   1, 440,  20,   2],\n",
       "       [ 20, 200, 200, 140, 400,  90],\n",
       "       [ 10,  30, 200, 200, 200, 200]])"
      ]
     },
     "execution_count": 2,
     "metadata": {},
     "output_type": "execute_result"
    }
   ],
   "source": [
    "Z_data = np.array([[660,10,2,30,1,1],\n",
    "                   [300,500,100,20,30,20],\n",
    "                   [200,400,300,10,30,100],\n",
    "                   [40,2,1,440,20,2],\n",
    "                   [20,200,200,140,400,90],\n",
    "                   [10,30,200,200,200,200]])"
   ]
  },
  {
   "cell_type": "markdown",
   "metadata": {},
   "source": [
    "Use the same format to make $\\textbf{Y}$ and call the variable ```Y_data```"
   ]
  },
  {
   "cell_type": "code",
   "execution_count": 3,
   "metadata": {},
   "outputs": [
    {
     "data": {
      "text/plain": [
       "array([[690,  60],\n",
       "       [380,  20],\n",
       "       [330,  15],\n",
       "       [200, 580],\n",
       "       [ 90, 200],\n",
       "       [100, 280]])"
      ]
     },
     "execution_count": 3,
     "metadata": {},
     "output_type": "execute_result"
    }
   ],
   "source": [
    "Y_data = np.array([[690,60],\n",
    "                   [380,20],\n",
    "                   [330,15],\n",
    "                   [200,580],\n",
    "                   [90,200],\n",
    "                   [100,280]])"
   ]
  },
  {
   "cell_type": "markdown",
   "metadata": {},
   "source": [
    "and make $\\textbf{f}$, calling the variable ```f_data```. Remember that the format for making a row vector is ```np.array([[number, number, number]])``` with TWO sets of square brackets!"
   ]
  },
  {
   "cell_type": "code",
   "execution_count": 4,
   "metadata": {},
   "outputs": [
    {
     "data": {
      "text/plain": [
       "array([[ 980, 1000, 1200, 1000, 1100, 1550]])"
      ]
     },
     "execution_count": 4,
     "metadata": {},
     "output_type": "execute_result"
    }
   ],
   "source": [
    "f_data = np.array([[980,1000,1200,1000,1100,1550]])"
   ]
  },
  {
   "cell_type": "markdown",
   "metadata": {},
   "source": [
    "We are going to make use of the Pandas library in Python. Pandas is excellent for handling databases. We are going to turn our array data into dataframes which can include the row and column headings. We can also use more calculation properties available with dataframes.\n",
    "\n",
    "## Exercise 1.2: Make heading files\n",
    "\n",
    "Copy the following into the box below:\n",
    "\n",
    "```python\n",
    "sectors = ['Eagleton Food',\n",
    "           'Eagleton Machines',\n",
    "           'Eagleton Energy',\n",
    "           'Pawnee Food',\n",
    "           'Pawnee Machines',\n",
    "           'Pawnee Energy']\n",
    "```\n",
    " \n",
    " to make a heading file for the columns and rows of $\\textbf{Z}$"
   ]
  },
  {
   "cell_type": "code",
   "execution_count": 5,
   "metadata": {},
   "outputs": [
    {
     "data": {
      "text/plain": [
       "['Eagleton Food',\n",
       " 'Eagleton Machines',\n",
       " 'Eagleton Energy',\n",
       " 'Pawnee Food',\n",
       " 'Pawnee Machines',\n",
       " 'Pawnee Energy']"
      ]
     },
     "execution_count": 5,
     "metadata": {},
     "output_type": "execute_result"
    }
   ],
   "source": [
    "sectors = ['Eagleton Food',\n",
    "           'Eagleton Machines',\n",
    "           'Eagleton Energy',\n",
    "           'Pawnee Food',\n",
    "           'Pawnee Machines',\n",
    "           'Pawnee Energy']"
   ]
  },
  {
   "cell_type": "markdown",
   "metadata": {},
   "source": [
    "Now make another heading file called 'final_demand' which contains the headings 'Eagleton Final Demand' and 'Pawnee Final Demand'"
   ]
  },
  {
   "cell_type": "code",
   "execution_count": 6,
   "metadata": {},
   "outputs": [
    {
     "data": {
      "text/plain": [
       "['Eagleton Final Demand', 'Pawnee Final Demand']"
      ]
     },
     "execution_count": 6,
     "metadata": {},
     "output_type": "execute_result"
    }
   ],
   "source": [
    "final_demand = ['Eagleton Final Demand',\n",
    "               'Pawnee Final Demand']"
   ]
  },
  {
   "cell_type": "markdown",
   "metadata": {},
   "source": [
    "## Exercise 1.3: Make dataframes for Z,Y and f\n",
    "\n",
    "We are going to use the pandas DataFrame function to convert our data into a more useful format.\n",
    "\n",
    "If you take a look at the notation for this function (https://pandas.pydata.org/pandas-docs/stable/reference/api/pandas.DataFrame.html) it says:\n",
    "\n",
    "class pandas.DataFrame(data=None, index=None, columns=None, dtype=None, copy=False)\n",
    "\n",
    "Try\n",
    "\n",
    "```python\n",
    "Z = pd.DataFrame(Z_data, index=sectors, columns=sectors)\n",
    "```"
   ]
  },
  {
   "cell_type": "code",
   "execution_count": 7,
   "metadata": {},
   "outputs": [
    {
     "data": {
      "text/html": [
       "<div>\n",
       "<style scoped>\n",
       "    .dataframe tbody tr th:only-of-type {\n",
       "        vertical-align: middle;\n",
       "    }\n",
       "\n",
       "    .dataframe tbody tr th {\n",
       "        vertical-align: top;\n",
       "    }\n",
       "\n",
       "    .dataframe thead th {\n",
       "        text-align: right;\n",
       "    }\n",
       "</style>\n",
       "<table border=\"1\" class=\"dataframe\">\n",
       "  <thead>\n",
       "    <tr style=\"text-align: right;\">\n",
       "      <th></th>\n",
       "      <th>Eagleton Food</th>\n",
       "      <th>Eagleton Machines</th>\n",
       "      <th>Eagleton Energy</th>\n",
       "      <th>Pawnee Food</th>\n",
       "      <th>Pawnee Machines</th>\n",
       "      <th>Pawnee Energy</th>\n",
       "    </tr>\n",
       "  </thead>\n",
       "  <tbody>\n",
       "    <tr>\n",
       "      <th>Eagleton Food</th>\n",
       "      <td>660</td>\n",
       "      <td>10</td>\n",
       "      <td>2</td>\n",
       "      <td>30</td>\n",
       "      <td>1</td>\n",
       "      <td>1</td>\n",
       "    </tr>\n",
       "    <tr>\n",
       "      <th>Eagleton Machines</th>\n",
       "      <td>300</td>\n",
       "      <td>500</td>\n",
       "      <td>100</td>\n",
       "      <td>20</td>\n",
       "      <td>30</td>\n",
       "      <td>20</td>\n",
       "    </tr>\n",
       "    <tr>\n",
       "      <th>Eagleton Energy</th>\n",
       "      <td>200</td>\n",
       "      <td>400</td>\n",
       "      <td>300</td>\n",
       "      <td>10</td>\n",
       "      <td>30</td>\n",
       "      <td>100</td>\n",
       "    </tr>\n",
       "    <tr>\n",
       "      <th>Pawnee Food</th>\n",
       "      <td>40</td>\n",
       "      <td>2</td>\n",
       "      <td>1</td>\n",
       "      <td>440</td>\n",
       "      <td>20</td>\n",
       "      <td>2</td>\n",
       "    </tr>\n",
       "    <tr>\n",
       "      <th>Pawnee Machines</th>\n",
       "      <td>20</td>\n",
       "      <td>200</td>\n",
       "      <td>200</td>\n",
       "      <td>140</td>\n",
       "      <td>400</td>\n",
       "      <td>90</td>\n",
       "    </tr>\n",
       "    <tr>\n",
       "      <th>Pawnee Energy</th>\n",
       "      <td>10</td>\n",
       "      <td>30</td>\n",
       "      <td>200</td>\n",
       "      <td>200</td>\n",
       "      <td>200</td>\n",
       "      <td>200</td>\n",
       "    </tr>\n",
       "  </tbody>\n",
       "</table>\n",
       "</div>"
      ],
      "text/plain": [
       "                   Eagleton Food  Eagleton Machines  Eagleton Energy  \\\n",
       "Eagleton Food                660                 10                2   \n",
       "Eagleton Machines            300                500              100   \n",
       "Eagleton Energy              200                400              300   \n",
       "Pawnee Food                   40                  2                1   \n",
       "Pawnee Machines               20                200              200   \n",
       "Pawnee Energy                 10                 30              200   \n",
       "\n",
       "                   Pawnee Food  Pawnee Machines  Pawnee Energy  \n",
       "Eagleton Food               30                1              1  \n",
       "Eagleton Machines           20               30             20  \n",
       "Eagleton Energy             10               30            100  \n",
       "Pawnee Food                440               20              2  \n",
       "Pawnee Machines            140              400             90  \n",
       "Pawnee Energy              200              200            200  "
      ]
     },
     "execution_count": 7,
     "metadata": {},
     "output_type": "execute_result"
    }
   ],
   "source": [
    "Z = pd.DataFrame(Z_data, index=sectors, columns=sectors)"
   ]
  },
  {
   "cell_type": "markdown",
   "metadata": {},
   "source": [
    "We are telling Python to make a dataframe, where the data is ```Z_data```, the index (the row headings) is ```sectors``` and the columns is ```sectors```\n",
    "\n",
    "Use this format to make ```Y``` the dataframe for final demand data"
   ]
  },
  {
   "cell_type": "code",
   "execution_count": 9,
   "metadata": {},
   "outputs": [
    {
     "data": {
      "text/html": [
       "<div>\n",
       "<style scoped>\n",
       "    .dataframe tbody tr th:only-of-type {\n",
       "        vertical-align: middle;\n",
       "    }\n",
       "\n",
       "    .dataframe tbody tr th {\n",
       "        vertical-align: top;\n",
       "    }\n",
       "\n",
       "    .dataframe thead th {\n",
       "        text-align: right;\n",
       "    }\n",
       "</style>\n",
       "<table border=\"1\" class=\"dataframe\">\n",
       "  <thead>\n",
       "    <tr style=\"text-align: right;\">\n",
       "      <th></th>\n",
       "      <th>Eagleton Final Demand</th>\n",
       "      <th>Pawnee Final Demand</th>\n",
       "    </tr>\n",
       "  </thead>\n",
       "  <tbody>\n",
       "    <tr>\n",
       "      <th>Eagleton Food</th>\n",
       "      <td>690</td>\n",
       "      <td>60</td>\n",
       "    </tr>\n",
       "    <tr>\n",
       "      <th>Eagleton Machines</th>\n",
       "      <td>380</td>\n",
       "      <td>20</td>\n",
       "    </tr>\n",
       "    <tr>\n",
       "      <th>Eagleton Energy</th>\n",
       "      <td>330</td>\n",
       "      <td>15</td>\n",
       "    </tr>\n",
       "    <tr>\n",
       "      <th>Pawnee Food</th>\n",
       "      <td>200</td>\n",
       "      <td>580</td>\n",
       "    </tr>\n",
       "    <tr>\n",
       "      <th>Pawnee Machines</th>\n",
       "      <td>90</td>\n",
       "      <td>200</td>\n",
       "    </tr>\n",
       "    <tr>\n",
       "      <th>Pawnee Energy</th>\n",
       "      <td>100</td>\n",
       "      <td>280</td>\n",
       "    </tr>\n",
       "  </tbody>\n",
       "</table>\n",
       "</div>"
      ],
      "text/plain": [
       "                   Eagleton Final Demand  Pawnee Final Demand\n",
       "Eagleton Food                        690                   60\n",
       "Eagleton Machines                    380                   20\n",
       "Eagleton Energy                      330                   15\n",
       "Pawnee Food                          200                  580\n",
       "Pawnee Machines                       90                  200\n",
       "Pawnee Energy                        100                  280"
      ]
     },
     "execution_count": 9,
     "metadata": {},
     "output_type": "execute_result"
    }
   ],
   "source": [
    "Y = pd.DataFrame(Y_data, index=sectors, columns=final_demand)"
   ]
  },
  {
   "cell_type": "markdown",
   "metadata": {},
   "source": [
    "Paste the following in to the box below to make a dataframes for  ```f```\n",
    "\n",
    "```f = pd.DataFrame(f_data, columns=sectors)```"
   ]
  },
  {
   "cell_type": "code",
   "execution_count": 10,
   "metadata": {},
   "outputs": [
    {
     "data": {
      "text/html": [
       "<div>\n",
       "<style scoped>\n",
       "    .dataframe tbody tr th:only-of-type {\n",
       "        vertical-align: middle;\n",
       "    }\n",
       "\n",
       "    .dataframe tbody tr th {\n",
       "        vertical-align: top;\n",
       "    }\n",
       "\n",
       "    .dataframe thead th {\n",
       "        text-align: right;\n",
       "    }\n",
       "</style>\n",
       "<table border=\"1\" class=\"dataframe\">\n",
       "  <thead>\n",
       "    <tr style=\"text-align: right;\">\n",
       "      <th></th>\n",
       "      <th>Eagleton Food</th>\n",
       "      <th>Eagleton Machines</th>\n",
       "      <th>Eagleton Energy</th>\n",
       "      <th>Pawnee Food</th>\n",
       "      <th>Pawnee Machines</th>\n",
       "      <th>Pawnee Energy</th>\n",
       "    </tr>\n",
       "  </thead>\n",
       "  <tbody>\n",
       "    <tr>\n",
       "      <th>0</th>\n",
       "      <td>980</td>\n",
       "      <td>1000</td>\n",
       "      <td>1200</td>\n",
       "      <td>1000</td>\n",
       "      <td>1100</td>\n",
       "      <td>1550</td>\n",
       "    </tr>\n",
       "  </tbody>\n",
       "</table>\n",
       "</div>"
      ],
      "text/plain": [
       "   Eagleton Food  Eagleton Machines  Eagleton Energy  Pawnee Food  \\\n",
       "0            980               1000             1200         1000   \n",
       "\n",
       "   Pawnee Machines  Pawnee Energy  \n",
       "0             1100           1550  "
      ]
     },
     "execution_count": 10,
     "metadata": {},
     "output_type": "execute_result"
    }
   ],
   "source": [
    "f = pd.DataFrame(f_data, columns=sectors)"
   ]
  },
  {
   "cell_type": "markdown",
   "metadata": {},
   "source": [
    "Dont worry about the zero as the index here - it doesn't really matter.\n",
    "\n",
    "## Exercise 1.4: Referring to DataFrame items\n",
    "\n",
    "When we worked with arrays, we could write ```Z_data[2,3]``` to refer to the item in the 3rd row down and 4th column accross (remember Python counts from zero). This value represents the monetary inputs of Eagleton's Energy to making a Pawnee Food product.\n",
    "\n",
    "With DataFrames we write:\n",
    "```python\n",
    "Z.iloc[2,3]\n",
    "```"
   ]
  },
  {
   "cell_type": "code",
   "execution_count": 11,
   "metadata": {},
   "outputs": [
    {
     "data": {
      "text/plain": [
       "10"
      ]
     },
     "execution_count": 11,
     "metadata": {},
     "output_type": "execute_result"
    }
   ],
   "source": [
    "Z.iloc[2,3]"
   ]
  },
  {
   "cell_type": "markdown",
   "metadata": {},
   "source": [
    "Notice that ```iloc``` refers to a numerical position.\n",
    "\n",
    "We can also use the headings to refer to a cell. \n",
    "\n",
    "Try \n",
    "```python\n",
    "Z.loc['Eagleton Energy','Pawnee Food']\n",
    "```"
   ]
  },
  {
   "cell_type": "code",
   "execution_count": 12,
   "metadata": {},
   "outputs": [
    {
     "data": {
      "text/plain": [
       "10"
      ]
     },
     "execution_count": 12,
     "metadata": {},
     "output_type": "execute_result"
    }
   ],
   "source": [
    "Z.loc['Eagleton Energy','Pawnee Food']"
   ]
  },
  {
   "cell_type": "markdown",
   "metadata": {},
   "source": [
    "Notice that ```loc``` refers to a position by name.\n",
    "\n",
    "Now if you wanted to extract the complete data of where Eagleton's energy goes to (the Pawnee energy row), you can use:\n",
    "```python\n",
    "Z.loc['Eagleton Energy']\n",
    "```"
   ]
  },
  {
   "cell_type": "code",
   "execution_count": 13,
   "metadata": {},
   "outputs": [
    {
     "data": {
      "text/plain": [
       "Eagleton Food        200\n",
       "Eagleton Machines    400\n",
       "Eagleton Energy      300\n",
       "Pawnee Food           10\n",
       "Pawnee Machines       30\n",
       "Pawnee Energy        100\n",
       "Name: Eagleton Energy, dtype: int64"
      ]
     },
     "execution_count": 13,
     "metadata": {},
     "output_type": "execute_result"
    }
   ],
   "source": [
    "Z.loc['Eagleton Energy']"
   ]
  },
  {
   "cell_type": "markdown",
   "metadata": {},
   "source": [
    "To extract the column of data showing inputs to Pawnee's Food (the production recipe of Pawnee's food), you can use:\n",
    "```python\n",
    "Z['Pawnee Food']\n",
    "```\n",
    "\n",
    "Extracting or referring to columns does not require ```loc```"
   ]
  },
  {
   "cell_type": "code",
   "execution_count": 14,
   "metadata": {},
   "outputs": [
    {
     "data": {
      "text/plain": [
       "Eagleton Food         30\n",
       "Eagleton Machines     20\n",
       "Eagleton Energy       10\n",
       "Pawnee Food          440\n",
       "Pawnee Machines      140\n",
       "Pawnee Energy        200\n",
       "Name: Pawnee Food, dtype: int64"
      ]
     },
     "execution_count": 14,
     "metadata": {},
     "output_type": "execute_result"
    }
   ],
   "source": [
    "Z['Pawnee Food']"
   ]
  },
  {
   "cell_type": "markdown",
   "metadata": {},
   "source": [
    "## Exercise 1.5: Make a vector of total output x\n",
    "\n",
    "Calculate the column vector of total output. You will need to sum along the rows of both $\\textbf{Z}$ and $\\textbf{Y}$. We can use ```np.sum('data','dimension')```. Call your variable $\\textbf{x}$\n",
    "\n",
    "Try \n",
    "```python\n",
    "x = np.sum(Z,1) + np.sum(Y,1)\n",
    "```"
   ]
  },
  {
   "cell_type": "code",
   "execution_count": 15,
   "metadata": {},
   "outputs": [
    {
     "data": {
      "text/plain": [
       "Eagleton Food        1454\n",
       "Eagleton Machines    1370\n",
       "Eagleton Energy      1385\n",
       "Pawnee Food          1285\n",
       "Pawnee Machines      1340\n",
       "Pawnee Energy        1220\n",
       "dtype: int64"
      ]
     },
     "execution_count": 15,
     "metadata": {},
     "output_type": "execute_result"
    }
   ],
   "source": [
    "x = np.sum(Z,1) + np.sum(Y,1)"
   ]
  },
  {
   "cell_type": "markdown",
   "metadata": {},
   "source": [
    "Scroll back up to the top to check that you have the correct total output figures from the original table.\n",
    "\n",
    "Lets make it neat by putting it in a dataframe:\n",
    "\n",
    "```x = pd.DataFrame(x,index=sectors)```"
   ]
  },
  {
   "cell_type": "code",
   "execution_count": 16,
   "metadata": {},
   "outputs": [
    {
     "data": {
      "text/html": [
       "<div>\n",
       "<style scoped>\n",
       "    .dataframe tbody tr th:only-of-type {\n",
       "        vertical-align: middle;\n",
       "    }\n",
       "\n",
       "    .dataframe tbody tr th {\n",
       "        vertical-align: top;\n",
       "    }\n",
       "\n",
       "    .dataframe thead th {\n",
       "        text-align: right;\n",
       "    }\n",
       "</style>\n",
       "<table border=\"1\" class=\"dataframe\">\n",
       "  <thead>\n",
       "    <tr style=\"text-align: right;\">\n",
       "      <th></th>\n",
       "      <th>0</th>\n",
       "    </tr>\n",
       "  </thead>\n",
       "  <tbody>\n",
       "    <tr>\n",
       "      <th>Eagleton Food</th>\n",
       "      <td>1454</td>\n",
       "    </tr>\n",
       "    <tr>\n",
       "      <th>Eagleton Machines</th>\n",
       "      <td>1370</td>\n",
       "    </tr>\n",
       "    <tr>\n",
       "      <th>Eagleton Energy</th>\n",
       "      <td>1385</td>\n",
       "    </tr>\n",
       "    <tr>\n",
       "      <th>Pawnee Food</th>\n",
       "      <td>1285</td>\n",
       "    </tr>\n",
       "    <tr>\n",
       "      <th>Pawnee Machines</th>\n",
       "      <td>1340</td>\n",
       "    </tr>\n",
       "    <tr>\n",
       "      <th>Pawnee Energy</th>\n",
       "      <td>1220</td>\n",
       "    </tr>\n",
       "  </tbody>\n",
       "</table>\n",
       "</div>"
      ],
      "text/plain": [
       "                      0\n",
       "Eagleton Food      1454\n",
       "Eagleton Machines  1370\n",
       "Eagleton Energy    1385\n",
       "Pawnee Food        1285\n",
       "Pawnee Machines    1340\n",
       "Pawnee Energy      1220"
      ]
     },
     "execution_count": 16,
     "metadata": {},
     "output_type": "execute_result"
    }
   ],
   "source": [
    "x = pd.DataFrame(x,index=sectors)"
   ]
  },
  {
   "cell_type": "markdown",
   "metadata": {},
   "source": [
    "Notice that we can use the numpy function 'sum' with DataFrames. The result $\\textbf{x}$ keeps the row headings because it has checked that both $\\textbf{Z}$ and $\\textbf{Y}$ contain the same sectors\n",
    "\n",
    "In input-output analysis the sum of the rows is the same as the sum of the columns so we could have added the columns of $\\textbf{Z}$ to the value added data. It is best practise to sum along $\\textbf{Z}$ and $\\textbf{Y}$ however becuase sometimes IO tables do not balance and this data is considered more accurate.\n",
    "\n",
    "## Exercise 1.6: Finding total production emissions in Eagleton and Pawnee\n",
    "\n",
    "Can you calculate the total production emissions for Eagleton?\n",
    "\n",
    "The emissions are held in the emissions vector $\\textbf{f}$ and we can either sum the emissions by referring to their position in the vector or by naming the start and end sectors. Here we describe selecting all the rows and the columns between the appropriate headings\n",
    "\n",
    "Try \n",
    "```python\n",
    "eagleton_production = np.sum(f.loc[:,'Eagleton Food':'Eagleton Energy'], 1)\n",
    "```"
   ]
  },
  {
   "cell_type": "code",
   "execution_count": 38,
   "metadata": {},
   "outputs": [
    {
     "data": {
      "text/plain": [
       "0    3180\n",
       "dtype: int64"
      ]
     },
     "execution_count": 38,
     "metadata": {},
     "output_type": "execute_result"
    }
   ],
   "source": [
    "eagleton_production = np.sum(f.loc[:,'Eagleton Food':'Eagleton Energy'], 1)"
   ]
  },
  {
   "cell_type": "markdown",
   "metadata": {},
   "source": [
    "Or, we can  refering to the locations in numeric form. Python starts to count from zero and to refer to a range of cells, you tell Python the start cell and cell after the one you want to end on.\n",
    "\n",
    "So we would write:\n",
    "\n",
    "```python\n",
    "eagleton_production = np.sum(f.iloc[:,0:3],1)\n",
    "```"
   ]
  },
  {
   "cell_type": "code",
   "execution_count": 39,
   "metadata": {},
   "outputs": [
    {
     "data": {
      "text/plain": [
       "0    3180\n",
       "dtype: int64"
      ]
     },
     "execution_count": 39,
     "metadata": {},
     "output_type": "execute_result"
    }
   ],
   "source": [
    "eagleton_production = np.sum(f.iloc[:,0:3],1)"
   ]
  },
  {
   "cell_type": "markdown",
   "metadata": {},
   "source": [
    "Find the sum of Pawnee's production emissions by referring to the cell labels."
   ]
  },
  {
   "cell_type": "code",
   "execution_count": 40,
   "metadata": {},
   "outputs": [
    {
     "data": {
      "text/plain": [
       "0    3650\n",
       "dtype: int64"
      ]
     },
     "execution_count": 40,
     "metadata": {},
     "output_type": "execute_result"
    }
   ],
   "source": [
    "pawnee_production = np.sum(f.loc[:,'Pawnee Food':'Pawnee Energy'], 1)"
   ]
  },
  {
   "cell_type": "markdown",
   "metadata": {},
   "source": [
    "Now try and use the cell locations in numeric form:"
   ]
  },
  {
   "cell_type": "code",
   "execution_count": 41,
   "metadata": {},
   "outputs": [
    {
     "data": {
      "text/plain": [
       "0    3650\n",
       "dtype: int64"
      ]
     },
     "execution_count": 41,
     "metadata": {},
     "output_type": "execute_result"
    }
   ],
   "source": [
    "pawnee_production = np.sum(f.iloc[:,3:6],1)"
   ]
  },
  {
   "cell_type": "markdown",
   "metadata": {},
   "source": [
    "# 2. Make the A matrix \n",
    "\n",
    "Now, we want to calculate the emissions from consumption rather than production. This means that we need to be able to calculate emissions $\\textbf{f}$ as a function of final demand $\\textbf{Y}$.\n",
    "\n",
    "We start by formulating output $\\textbf{x}$ as a function of final demand $\\textbf{Y}$.\n",
    "\n",
    "We know that $\\textbf{x}$ = $\\textbf{Z}$+$\\textbf{Y}$\n",
    "\n",
    "Which, for a general row $i$ in our matrix, can be written:\n",
    "\n",
    "$x_i$ = $z_{i1}$ + $z_{i2}$ + $z_{i3}$ + $z_{i4}$ + $z_{i5}$ + $z_{i6}$ + $y_{i1}$ + $y_{i2}$ \n",
    "\n",
    "Now we produce a matrix $\\textbf{A}$ which shows the contribution each element in $\\textbf{Z}$ makes towards total output $\\textbf{x}$. Essentially this means dividing each column in $\\textbf{Z}$ by the matching element in $\\textbf{x}$.\n",
    "\n",
    "Now:\n",
    "\n",
    "$a_{ij}$ = $\\frac{z_{ij}}{x_j}$\n",
    "\n",
    "So we can write:\n",
    "\n",
    "$x_i$ = $a_{i1}{x_1}$ + $a_{i2}{x_2}$ + $a_{i3}{x_3}$ + $a_{i4}{x_4}$ + $a_{i5}{x_5}$ + $a_{i6}{x_6}$ + $y_{i1}$ + $y_{i2}$ \n",
    "\n",
    "and so\n",
    "\n",
    "$\\textbf{x}$ = $\\textbf{Ax}$+$\\textbf{Y}$\n",
    "\n",
    "$\\textbf{Y}$ = $\\textbf{x}$ - $\\textbf{Ax}$ \n",
    "\n",
    "$\\textbf{x}$ = $(\\textbf{I}$ - $\\textbf{A})^{-1}$ $\\textbf{Y}$\n",
    "\n",
    "or\n",
    "\n",
    "$\\textbf{x}$ = $\\textbf{L}\\textbf{Y}$\n",
    "\n",
    "$\\textbf{L}$ is known as the Leontief inverse and helps us to express output of industry as a function of demand on products. It essentially redistributes output by industry to final demand by product.\n",
    "\n",
    "In order to calculate $\\textbf{L}$ we first have to make $\\textbf{A}$.\n",
    "\n",
    "In Python, the easiest way to do this is an element-wise division where each cell in $\\textbf{Z}$ is divided by a second matrix, which has the same dimensions (size) as $\\textbf{Z}$ but contains $\\textbf{x}$ in row form, repeated down each row.\n",
    "\n",
    "We are going to call this second matrix ```big_X```\n",
    "\n",
    "## Exercise 2.1: Make big_X\n",
    "\n",
    "Try \n",
    "```python\n",
    "big_X = np.tile(np.transpose(x),[6,1])\n",
    "```\n",
    "\n"
   ]
  },
  {
   "cell_type": "code",
   "execution_count": 42,
   "metadata": {},
   "outputs": [
    {
     "data": {
      "text/plain": [
       "array([[1454, 1370, 1385, 1285, 1340, 1220],\n",
       "       [1454, 1370, 1385, 1285, 1340, 1220],\n",
       "       [1454, 1370, 1385, 1285, 1340, 1220],\n",
       "       [1454, 1370, 1385, 1285, 1340, 1220],\n",
       "       [1454, 1370, 1385, 1285, 1340, 1220],\n",
       "       [1454, 1370, 1385, 1285, 1340, 1220]])"
      ]
     },
     "execution_count": 42,
     "metadata": {},
     "output_type": "execute_result"
    }
   ],
   "source": [
    "big_X = np.tile(np.transpose(x),[6,1])"
   ]
  },
  {
   "cell_type": "markdown",
   "metadata": {},
   "source": [
    "Can you see how this formula works?\n",
    "\n",
    "We have tranposed $\\textbf{x}$ to make it a row vector, then repeated this 6 times down and once across. We won't turn this into a DataFrame because it is an intermediate step and the row headings would not make sense.\n",
    "\n",
    "## Exercise 2.2: Make A\n",
    "\n",
    "Now try \n",
    "```python\n",
    "A = Z/big_X\n",
    "```"
   ]
  },
  {
   "cell_type": "code",
   "execution_count": 43,
   "metadata": {},
   "outputs": [
    {
     "data": {
      "text/html": [
       "<div>\n",
       "<style scoped>\n",
       "    .dataframe tbody tr th:only-of-type {\n",
       "        vertical-align: middle;\n",
       "    }\n",
       "\n",
       "    .dataframe tbody tr th {\n",
       "        vertical-align: top;\n",
       "    }\n",
       "\n",
       "    .dataframe thead th {\n",
       "        text-align: right;\n",
       "    }\n",
       "</style>\n",
       "<table border=\"1\" class=\"dataframe\">\n",
       "  <thead>\n",
       "    <tr style=\"text-align: right;\">\n",
       "      <th></th>\n",
       "      <th>Eagleton Food</th>\n",
       "      <th>Eagleton Machines</th>\n",
       "      <th>Eagleton Energy</th>\n",
       "      <th>Pawnee Food</th>\n",
       "      <th>Pawnee Machines</th>\n",
       "      <th>Pawnee Energy</th>\n",
       "    </tr>\n",
       "  </thead>\n",
       "  <tbody>\n",
       "    <tr>\n",
       "      <th>Eagleton Food</th>\n",
       "      <td>0.453920</td>\n",
       "      <td>0.007299</td>\n",
       "      <td>0.001444</td>\n",
       "      <td>0.023346</td>\n",
       "      <td>0.000746</td>\n",
       "      <td>0.000820</td>\n",
       "    </tr>\n",
       "    <tr>\n",
       "      <th>Eagleton Machines</th>\n",
       "      <td>0.206327</td>\n",
       "      <td>0.364964</td>\n",
       "      <td>0.072202</td>\n",
       "      <td>0.015564</td>\n",
       "      <td>0.022388</td>\n",
       "      <td>0.016393</td>\n",
       "    </tr>\n",
       "    <tr>\n",
       "      <th>Eagleton Energy</th>\n",
       "      <td>0.137552</td>\n",
       "      <td>0.291971</td>\n",
       "      <td>0.216606</td>\n",
       "      <td>0.007782</td>\n",
       "      <td>0.022388</td>\n",
       "      <td>0.081967</td>\n",
       "    </tr>\n",
       "    <tr>\n",
       "      <th>Pawnee Food</th>\n",
       "      <td>0.027510</td>\n",
       "      <td>0.001460</td>\n",
       "      <td>0.000722</td>\n",
       "      <td>0.342412</td>\n",
       "      <td>0.014925</td>\n",
       "      <td>0.001639</td>\n",
       "    </tr>\n",
       "    <tr>\n",
       "      <th>Pawnee Machines</th>\n",
       "      <td>0.013755</td>\n",
       "      <td>0.145985</td>\n",
       "      <td>0.144404</td>\n",
       "      <td>0.108949</td>\n",
       "      <td>0.298507</td>\n",
       "      <td>0.073770</td>\n",
       "    </tr>\n",
       "    <tr>\n",
       "      <th>Pawnee Energy</th>\n",
       "      <td>0.006878</td>\n",
       "      <td>0.021898</td>\n",
       "      <td>0.144404</td>\n",
       "      <td>0.155642</td>\n",
       "      <td>0.149254</td>\n",
       "      <td>0.163934</td>\n",
       "    </tr>\n",
       "  </tbody>\n",
       "</table>\n",
       "</div>"
      ],
      "text/plain": [
       "                   Eagleton Food  Eagleton Machines  Eagleton Energy  \\\n",
       "Eagleton Food           0.453920           0.007299         0.001444   \n",
       "Eagleton Machines       0.206327           0.364964         0.072202   \n",
       "Eagleton Energy         0.137552           0.291971         0.216606   \n",
       "Pawnee Food             0.027510           0.001460         0.000722   \n",
       "Pawnee Machines         0.013755           0.145985         0.144404   \n",
       "Pawnee Energy           0.006878           0.021898         0.144404   \n",
       "\n",
       "                   Pawnee Food  Pawnee Machines  Pawnee Energy  \n",
       "Eagleton Food         0.023346         0.000746       0.000820  \n",
       "Eagleton Machines     0.015564         0.022388       0.016393  \n",
       "Eagleton Energy       0.007782         0.022388       0.081967  \n",
       "Pawnee Food           0.342412         0.014925       0.001639  \n",
       "Pawnee Machines       0.108949         0.298507       0.073770  \n",
       "Pawnee Energy         0.155642         0.149254       0.163934  "
      ]
     },
     "execution_count": 43,
     "metadata": {},
     "output_type": "execute_result"
    }
   ],
   "source": [
    "A = Z/big_X"
   ]
  },
  {
   "cell_type": "markdown",
   "metadata": {},
   "source": [
    "Notice that every cell in $\\textbf{A}$ is a number smaller than one. Python is writing these numbers in standard form.\n",
    "\n",
    "The first cell should be '4.54e-01' or 0.454.\n",
    "\n",
    "# 3. Calculating L - the Leontief inverse\n",
    "\n",
    "Leontief's equation is $L = (I-A)^{-1}$\n",
    "\n",
    "## Exercise 3.1: Make the identity matrix I\n",
    "\n",
    "Look back at the matrix algebra workbook and make an identity matrix $\\textbf{I}$ which is 6 cells wide and long"
   ]
  },
  {
   "cell_type": "code",
   "execution_count": 44,
   "metadata": {},
   "outputs": [
    {
     "data": {
      "text/plain": [
       "array([[1., 0., 0., 0., 0., 0.],\n",
       "       [0., 1., 0., 0., 0., 0.],\n",
       "       [0., 0., 1., 0., 0., 0.],\n",
       "       [0., 0., 0., 1., 0., 0.],\n",
       "       [0., 0., 0., 0., 1., 0.],\n",
       "       [0., 0., 0., 0., 0., 1.]])"
      ]
     },
     "execution_count": 44,
     "metadata": {},
     "output_type": "execute_result"
    }
   ],
   "source": [
    "I = np.identity(6)"
   ]
  },
  {
   "cell_type": "markdown",
   "metadata": {},
   "source": [
    "## Exercise 3.2: Make L\n",
    "\n",
    "Now try to make $\\textbf{L}$ using Python's ```np.linalg.inv``` function that we also saw in the homework"
   ]
  },
  {
   "cell_type": "code",
   "execution_count": 45,
   "metadata": {},
   "outputs": [
    {
     "data": {
      "text/plain": [
       "array([[1.85, 0.03, 0.01, 0.07, 0.01, 0.  ],\n",
       "       [0.69, 1.69, 0.18, 0.09, 0.07, 0.06],\n",
       "       [0.61, 0.67, 1.39, 0.11, 0.1 , 0.16],\n",
       "       [0.09, 0.02, 0.01, 1.53, 0.04, 0.01],\n",
       "       [0.34, 0.52, 0.36, 0.32, 1.5 , 0.18],\n",
       "       [0.22, 0.26, 0.31, 0.36, 0.29, 1.26]])"
      ]
     },
     "execution_count": 45,
     "metadata": {},
     "output_type": "execute_result"
    }
   ],
   "source": [
    "L = np.linalg.inv(I-A)"
   ]
  },
  {
   "cell_type": "markdown",
   "metadata": {},
   "source": [
    "You should have got a result that looks like this:\n",
    "\n",
    "```python\n",
    "array([[ 1.85,  0.03,  0.01,  0.07,  0.01,  0.  ],\n",
    "       [ 0.69,  1.69,  0.18,  0.09,  0.07,  0.06],\n",
    "       [ 0.61,  0.67,  1.39,  0.11,  0.1 ,  0.16],\n",
    "       [ 0.09,  0.02,  0.01,  1.53,  0.04,  0.01],\n",
    "       [ 0.34,  0.52,  0.36,  0.32,  1.5 ,  0.18],\n",
    "       [ 0.22,  0.26,  0.31,  0.36,  0.29,  1.26]])```"
   ]
  },
  {
   "cell_type": "markdown",
   "metadata": {},
   "source": [
    "# 4. Calculating the consumption emissions for Eagleton and Pawnee\n",
    "\n",
    "Now let $\\textbf{e}$ be a vector of emissions intensity - the tonnes of $CO_2$ per unit of output.\n",
    "\n",
    "$\\textbf{e = fx}^{-1}$\n",
    "\n",
    "multiplying both sides of the Leontief equation by $\\textbf{e}$ gives:\n",
    "\n",
    "$\\textbf{ex} = \\textbf{eLY}$\n",
    "\n",
    "which simplifies to:\n",
    "\n",
    "$\\textbf{f} = \\textbf{eLY}$\n",
    "\n",
    "total emissions can be formulated by the product of emissions intensity, the Leontief inverse and final demand. We have emissions as a function of final demand!\n",
    "\n",
    "We are going to reserve $\\textbf{f}$ for the production vector and use $\\textbf{q}$ for consumption emissions.\n",
    "\n",
    "## Exercise 4.1: Calculating e\n",
    "\n",
    "We cannot  use ```e = f/x``` here because $\\textbf{f}$ is a row vector and $\\textbf{x}$ is a column vector. For this project, we want $\\textbf{e}$ to be a row vector so we must first transpose $\\textbf{x}$. Try:\n",
    "\n",
    "```python\n",
    "e = f/np.transpose(x)\n",
    "```"
   ]
  },
  {
   "cell_type": "code",
   "execution_count": 46,
   "metadata": {},
   "outputs": [
    {
     "data": {
      "text/html": [
       "<div>\n",
       "<style scoped>\n",
       "    .dataframe tbody tr th:only-of-type {\n",
       "        vertical-align: middle;\n",
       "    }\n",
       "\n",
       "    .dataframe tbody tr th {\n",
       "        vertical-align: top;\n",
       "    }\n",
       "\n",
       "    .dataframe thead th {\n",
       "        text-align: right;\n",
       "    }\n",
       "</style>\n",
       "<table border=\"1\" class=\"dataframe\">\n",
       "  <thead>\n",
       "    <tr style=\"text-align: right;\">\n",
       "      <th></th>\n",
       "      <th>Eagleton Food</th>\n",
       "      <th>Eagleton Machines</th>\n",
       "      <th>Eagleton Energy</th>\n",
       "      <th>Pawnee Food</th>\n",
       "      <th>Pawnee Machines</th>\n",
       "      <th>Pawnee Energy</th>\n",
       "    </tr>\n",
       "  </thead>\n",
       "  <tbody>\n",
       "    <tr>\n",
       "      <th>0</th>\n",
       "      <td>0.674003</td>\n",
       "      <td>0.729927</td>\n",
       "      <td>0.866426</td>\n",
       "      <td>0.77821</td>\n",
       "      <td>0.820896</td>\n",
       "      <td>1.270492</td>\n",
       "    </tr>\n",
       "  </tbody>\n",
       "</table>\n",
       "</div>"
      ],
      "text/plain": [
       "   Eagleton Food  Eagleton Machines  Eagleton Energy  Pawnee Food  \\\n",
       "0       0.674003           0.729927         0.866426      0.77821   \n",
       "\n",
       "   Pawnee Machines  Pawnee Energy  \n",
       "0         0.820896       1.270492  "
      ]
     },
     "execution_count": 46,
     "metadata": {},
     "output_type": "execute_result"
    }
   ],
   "source": [
    "e = f/np.transpose(x)"
   ]
  },
  {
   "cell_type": "markdown",
   "metadata": {},
   "source": [
    "Lets make a barchart of e. Try:\n",
    "\n",
    "```python\n",
    "chart = e.plot(kind='bar')\n",
    "chart.set_ylabel('tonnes CO2 per £')\n",
    "```\n"
   ]
  },
  {
   "cell_type": "code",
   "execution_count": 47,
   "metadata": {},
   "outputs": [
    {
     "data": {
      "text/plain": [
       "Text(0, 0.5, 'tonnes CO2 per £')"
      ]
     },
     "execution_count": 47,
     "metadata": {},
     "output_type": "execute_result"
    },
    {
     "data": {
      "image/png": "[encoded data removed]",
      "text/plain": [
       "<Figure size 640x480 with 1 Axes>"
      ]
     },
     "metadata": {},
     "output_type": "display_data"
    }
   ],
   "source": [
    "chart = e.plot(kind='bar')\n",
    "chart.set_ylabel('tonnes CO2 per £')"
   ]
  },
  {
   "cell_type": "markdown",
   "metadata": {},
   "source": [
    "## Exercise 4.2: Calculating eL\n",
    "\n",
    "Try ```eL = np.dot(e, L)```"
   ]
  },
  {
   "cell_type": "code",
   "execution_count": 48,
   "metadata": {},
   "outputs": [
    {
     "data": {
      "text/plain": [
       "array([[2.91, 2.6 , 2.04, 2.12, 1.78, 1.93]])"
      ]
     },
     "execution_count": 48,
     "metadata": {},
     "output_type": "execute_result"
    }
   ],
   "source": [
    "eL = np.dot(e, L)"
   ]
  },
  {
   "cell_type": "markdown",
   "metadata": {},
   "source": [
    "If we want to make a bar chart similar to the one above but for eL we need eL to be a dataframe. But when we use eL for later calculations it needs to stay as an array. Try:\n",
    "\n",
    "```python\n",
    "eLdataframe = pd.DataFrame(eL,columns=sectors)\n",
    "chart = eLdataframe.plot( kind = 'bar')\n",
    "chart.set_ylabel('tonnes CO2 per £')\n",
    "```"
   ]
  },
  {
   "cell_type": "code",
   "execution_count": 49,
   "metadata": {},
   "outputs": [
    {
     "data": {
      "text/plain": [
       "Text(0, 0.5, 'tonnes CO2 per £')"
      ]
     },
     "execution_count": 49,
     "metadata": {},
     "output_type": "execute_result"
    },
    {
     "data": {
      "image/png": "[encoded data removed]",
      "text/plain": [
       "<Figure size 640x480 with 1 Axes>"
      ]
     },
     "metadata": {},
     "output_type": "display_data"
    }
   ],
   "source": [
    "eLdataframe = pd.DataFrame(eL,columns=sectors)\n",
    "chart = eLdataframe.plot( kind = 'bar')\n",
    "chart.set_ylabel('tonnes CO2 per £')"
   ]
  },
  {
   "cell_type": "markdown",
   "metadata": {},
   "source": [
    "Let's think a bit more about what $\\textbf{eL}$ represents. We have multiplied emissions intensity of <b>industries</b> by the matrix which translates industry inputs to products. \n",
    "\n",
    "$\\textbf{eL}$ is therefore the emissions intensity of <b>products</b>\n",
    "\n",
    "Each number represents the full supply chain emissions per unit spend of a product.\n",
    "\n",
    "Compare the figures you have for the emissions intensity of an industry with the corresponding product emissions intensity. You should find that they are larger because we are taking account of the full supply chain of production.\n",
    "\n",
    "Observe that for food, the product emissions intensity is now larger than the product emissions intensity for energy. This is because we are including emissions from highly polluting sectors like energy in the supply chain of a less intensive product like food."
   ]
  },
  {
   "cell_type": "markdown",
   "metadata": {},
   "source": [
    "## Exercise 4.3: Calculating Total town level footprints\n",
    "\n",
    "$\\textbf{q = eLY}$. \n",
    "\n",
    "We calculated ```eL``` in the previous exercise. Now we need to multiply it by ```Y```. \n",
    "\n",
    "Try ```q = np.dot(eL, Y)```"
   ]
  },
  {
   "cell_type": "code",
   "execution_count": 50,
   "metadata": {},
   "outputs": [
    {
     "data": {
      "text/plain": [
       "array([[4443.62, 2386.38]])"
      ]
     },
     "execution_count": 50,
     "metadata": {},
     "output_type": "execute_result"
    }
   ],
   "source": [
    "q = np.dot(eL, Y)"
   ]
  },
  {
   "cell_type": "markdown",
   "metadata": {},
   "source": [
    "You should find that you have a result matrix of dimension [$1$,$2$]. But what do the numbers mean?\n",
    "\n",
    "Lets look at the dimensions of $\\textbf{e}$, $\\textbf{L}$ and $\\textbf{Y}$:\n",
    "\n",
    "[$1$,$6$]  [$6$,$6$]  [$6$,$2$]\n",
    "\n",
    "The final result is the emissions by final demand region [$1$,$2$] where the $1$ is from the emissions intensity vector $\\textbf{e}$  and the $2$ is from the final demand matrix $\\textbf{Y}$. So the emissions from Eagleton's consumption are 4443.62 tonnes $CO2$ or the carbon footprint of Eagleton is 4443.62 tonnes $CO2$.\n",
    "\n",
    "If this reasoning is correct, total emissions should be preserved. Can you check if the sum of the production emissions $\\textbf{f}$ is the same as the sum of the consumption emissions $\\textbf{q}$ that you have just calculated?"
   ]
  },
  {
   "cell_type": "code",
   "execution_count": 52,
   "metadata": {},
   "outputs": [
    {
     "data": {
      "text/plain": [
       "0    0.0\n",
       "dtype: float64"
      ]
     },
     "execution_count": 52,
     "metadata": {},
     "output_type": "execute_result"
    }
   ],
   "source": [
    "np.sum(q,1)-np.sum(f,1)"
   ]
  },
  {
   "cell_type": "markdown",
   "metadata": {},
   "source": [
    "You can make your result into a neat DataFrame like this: \n",
    "\n",
    "```total_country_footprints = pd.DataFrame(q,columns=final_demand)```"
   ]
  },
  {
   "cell_type": "code",
   "execution_count": 53,
   "metadata": {},
   "outputs": [
    {
     "data": {
      "text/html": [
       "<div>\n",
       "<style scoped>\n",
       "    .dataframe tbody tr th:only-of-type {\n",
       "        vertical-align: middle;\n",
       "    }\n",
       "\n",
       "    .dataframe tbody tr th {\n",
       "        vertical-align: top;\n",
       "    }\n",
       "\n",
       "    .dataframe thead th {\n",
       "        text-align: right;\n",
       "    }\n",
       "</style>\n",
       "<table border=\"1\" class=\"dataframe\">\n",
       "  <thead>\n",
       "    <tr style=\"text-align: right;\">\n",
       "      <th></th>\n",
       "      <th>Eagleton Final Demand</th>\n",
       "      <th>Pawnee Final Demand</th>\n",
       "    </tr>\n",
       "  </thead>\n",
       "  <tbody>\n",
       "    <tr>\n",
       "      <th>0</th>\n",
       "      <td>4443.623861</td>\n",
       "      <td>2386.376139</td>\n",
       "    </tr>\n",
       "  </tbody>\n",
       "</table>\n",
       "</div>"
      ],
      "text/plain": [
       "   Eagleton Final Demand  Pawnee Final Demand\n",
       "0            4443.623861          2386.376139"
      ]
     },
     "execution_count": 53,
     "metadata": {},
     "output_type": "execute_result"
    }
   ],
   "source": [
    "total_country_footprints = pd.DataFrame(q,columns=final_demand)"
   ]
  },
  {
   "cell_type": "markdown",
   "metadata": {},
   "source": [
    "## Exercise 4.4: Calculating product level footprints\n",
    "\n",
    "If we wanted to breakdown the footprint of each country by product we would need to be pre-multiplying $\\textbf{Y}$ by something with 6 product rows rather than the 1 row from eL that we used in Excercise 4.2.\n",
    "\n",
    "If we diagonalise $\\textbf{eL}$, we will make a matrix of products by products. The multiplying this by $\\textbf{Y}$ gives 'products by regions'\n",
    "\n",
    "Try multiplying a diagonalised $\\textbf{eL}$ by $\\textbf{Y}$ to make ```country_footprints_by_product```.\n",
    "\n",
    "Use the function ```np.diagflat(eL)``` then multiply by $\\textbf{Y}$:\n",
    "\n",
    "```python\n",
    "country_footprints_by_product = np.dot(np.diagflat(eL), Y)\n",
    "```"
   ]
  },
  {
   "cell_type": "code",
   "execution_count": 54,
   "metadata": {},
   "outputs": [
    {
     "data": {
      "text/plain": [
       "array([[2005.06,  174.35],\n",
       "       [ 987.92,   52.  ],\n",
       "       [ 672.28,   30.56],\n",
       "       [ 424.93, 1232.28],\n",
       "       [ 160.02,  355.61],\n",
       "       [ 193.42,  541.58]])"
      ]
     },
     "execution_count": 54,
     "metadata": {},
     "output_type": "execute_result"
    }
   ],
   "source": [
    "country_footprints_by_product = np.dot(np.diagflat(eL), Y)"
   ]
  },
  {
   "cell_type": "markdown",
   "metadata": {},
   "source": [
    "Make your result into a DataFrame called ```country_footprints_by_product```"
   ]
  },
  {
   "cell_type": "code",
   "execution_count": 55,
   "metadata": {},
   "outputs": [
    {
     "data": {
      "text/html": [
       "<div>\n",
       "<style scoped>\n",
       "    .dataframe tbody tr th:only-of-type {\n",
       "        vertical-align: middle;\n",
       "    }\n",
       "\n",
       "    .dataframe tbody tr th {\n",
       "        vertical-align: top;\n",
       "    }\n",
       "\n",
       "    .dataframe thead th {\n",
       "        text-align: right;\n",
       "    }\n",
       "</style>\n",
       "<table border=\"1\" class=\"dataframe\">\n",
       "  <thead>\n",
       "    <tr style=\"text-align: right;\">\n",
       "      <th></th>\n",
       "      <th>Eagleton Final Demand</th>\n",
       "      <th>Pawnee Final Demand</th>\n",
       "    </tr>\n",
       "  </thead>\n",
       "  <tbody>\n",
       "    <tr>\n",
       "      <th>Eagleton Food</th>\n",
       "      <td>2005.055530</td>\n",
       "      <td>174.352655</td>\n",
       "    </tr>\n",
       "    <tr>\n",
       "      <th>Eagleton Machines</th>\n",
       "      <td>987.922098</td>\n",
       "      <td>51.995900</td>\n",
       "    </tr>\n",
       "    <tr>\n",
       "      <th>Eagleton Energy</th>\n",
       "      <td>672.276709</td>\n",
       "      <td>30.558032</td>\n",
       "    </tr>\n",
       "    <tr>\n",
       "      <th>Pawnee Food</th>\n",
       "      <td>424.925623</td>\n",
       "      <td>1232.284308</td>\n",
       "    </tr>\n",
       "    <tr>\n",
       "      <th>Pawnee Machines</th>\n",
       "      <td>160.022905</td>\n",
       "      <td>355.606456</td>\n",
       "    </tr>\n",
       "    <tr>\n",
       "      <th>Pawnee Energy</th>\n",
       "      <td>193.420995</td>\n",
       "      <td>541.578787</td>\n",
       "    </tr>\n",
       "  </tbody>\n",
       "</table>\n",
       "</div>"
      ],
      "text/plain": [
       "                   Eagleton Final Demand  Pawnee Final Demand\n",
       "Eagleton Food                2005.055530           174.352655\n",
       "Eagleton Machines             987.922098            51.995900\n",
       "Eagleton Energy               672.276709            30.558032\n",
       "Pawnee Food                   424.925623          1232.284308\n",
       "Pawnee Machines               160.022905           355.606456\n",
       "Pawnee Energy                 193.420995           541.578787"
      ]
     },
     "execution_count": 55,
     "metadata": {},
     "output_type": "execute_result"
    }
   ],
   "source": [
    "country_footprints_by_product = pd.DataFrame(country_footprints_by_product,index = sectors, columns=final_demand)"
   ]
  },
  {
   "cell_type": "markdown",
   "metadata": {},
   "source": [
    " Try:\n",
    "\n",
    "```python\n",
    "chart = country_footprints_by_product.plot(kind='bar')\n",
    "chart.set_ylabel('tonnes CO2 per £')\n",
    "```\n",
    "\n",
    "and\n",
    "\n",
    "```python\n",
    "chart = country_footprints_by_product.plot(kind='bar', stacked=True)\n",
    "chart.set_ylabel('tonnes CO2 per £')\n",
    "```\n",
    "\n",
    "and\n",
    "\n",
    "```python\n",
    "dataframe = country_footprints_by_product.transpose(copy=True)\n",
    "plot = dataframe.plot(kind='bar', stacked=True)\n",
    "plot.set_ylabel('tonnes CO2 per £')\n",
    "```\n",
    "\n",
    "and\n",
    "\n",
    "```python\n",
    "plots = country_footprints_by_product.plot(kind='barh', subplots=True)\n",
    "```"
   ]
  },
  {
   "cell_type": "code",
   "execution_count": 57,
   "metadata": {},
   "outputs": [
    {
     "data": {
      "text/plain": [
       "array([<Axes: title={'center': 'Eagleton Final Demand'}>,\n",
       "       <Axes: title={'center': 'Pawnee Final Demand'}>], dtype=object)"
      ]
     },
     "execution_count": 57,
     "metadata": {},
     "output_type": "execute_result"
    },
    {
     "data": {
      "image/png": "[encoded data removed]",
      "text/plain": [
       "<Figure size 640x480 with 1 Axes>"
      ]
     },
     "metadata": {},
     "output_type": "display_data"
    },
    {
     "data": {
      "image/png": "[encoded data removed]",
      "text/plain": [
       "<Figure size 640x480 with 1 Axes>"
      ]
     },
     "metadata": {},
     "output_type": "display_data"
    },
    {
     "data": {
      "image/png": "[encoded data removed]",
      "text/plain": [
       "<Figure size 640x480 with 1 Axes>"
      ]
     },
     "metadata": {},
     "output_type": "display_data"
    },
    {
     "data": {
      "image/png": "[encoded data removed]",
      "text/plain": [
       "<Figure size 640x480 with 2 Axes>"
      ]
     },
     "metadata": {},
     "output_type": "display_data"
    }
   ],
   "source": [
    "chart = country_footprints_by_product.plot(kind='bar')\n",
    "chart.set_ylabel('tonnes CO2 per £')\n",
    "\n",
    "chart = country_footprints_by_product.plot(kind='bar', stacked=True)\n",
    "chart.set_ylabel('tonnes CO2 per £')\n",
    "\n",
    "dataframe = country_footprints_by_product.transpose(copy=True)\n",
    "plot = dataframe.plot(kind='bar', stacked=True)\n",
    "plot.set_ylabel('tonnes CO2 per £')\n",
    "\n",
    "plots = country_footprints_by_product.plot(kind='barh', subplots=True)"
   ]
  },
  {
   "cell_type": "markdown",
   "metadata": {},
   "source": [
    "## Exercise 4.5 Calculating emissions by source industry and end product\n",
    "\n",
    "First make a new variable ```y_eagleton``` which extracts Eagleton's final demand column"
   ]
  },
  {
   "cell_type": "code",
   "execution_count": 58,
   "metadata": {},
   "outputs": [
    {
     "data": {
      "text/plain": [
       "Eagleton Food        690\n",
       "Eagleton Machines    380\n",
       "Eagleton Energy      330\n",
       "Pawnee Food          200\n",
       "Pawnee Machines       90\n",
       "Pawnee Energy        100\n",
       "Name: Eagleton Final Demand, dtype: int64"
      ]
     },
     "execution_count": 58,
     "metadata": {},
     "output_type": "execute_result"
    }
   ],
   "source": [
    "y_eagleton = Y['Eagleton Final Demand']"
   ]
  },
  {
   "cell_type": "markdown",
   "metadata": {},
   "source": [
    "Do the same for Pawnee and make ```y_pawnee```"
   ]
  },
  {
   "cell_type": "code",
   "execution_count": 59,
   "metadata": {},
   "outputs": [
    {
     "data": {
      "text/plain": [
       "Eagleton Food         60\n",
       "Eagleton Machines     20\n",
       "Eagleton Energy       15\n",
       "Pawnee Food          580\n",
       "Pawnee Machines      200\n",
       "Pawnee Energy        280\n",
       "Name: Pawnee Final Demand, dtype: int64"
      ]
     },
     "execution_count": 59,
     "metadata": {},
     "output_type": "execute_result"
    }
   ],
   "source": [
    "y_pawnee = Y['Pawnee Final Demand']"
   ]
  },
  {
   "cell_type": "markdown",
   "metadata": {},
   "source": [
    "We now want to make two separate footprint result matrices. One for Eagleton and one for Pawnee. In each matrix, we want the columns to represent final products and the rows to be source industries.\n",
    "\n",
    "Using these matrices we can sum the columns to find the product footprints as shown in <b>Exercise 4.4</b>. But more interestingly, we can look at the composition of industries (and associated emissions) that are used to make a product.\n",
    "\n",
    "To do this, we will need to ensure that our multiplication gives a result of dimension $[6,6]$ \n",
    "\n",
    "The first matrix needs to be an 'industry by industry' matrix\n",
    "\n",
    "$\\textbf{L}$ is 'industry by product' matrix\n",
    "\n",
    "then the final matrix is a 'product by product' matrix\n",
    "\n",
    "The best way to do this is to diagonalise both ```e``` and ```y_eagleton```\n",
    "\n",
    "try: \n",
    "```python\n",
    "eagleton_footprint_full = np.dot(np.dot(np.diagflat(e.values), L), np.diag(y_eagleton))\n",
    "```"
   ]
  },
  {
   "cell_type": "code",
   "execution_count": 60,
   "metadata": {},
   "outputs": [
    {
     "data": {
      "text/plain": [
       "array([[8.59e+02, 6.70e+00, 1.67e+00, 9.17e+00, 3.19e-01, 2.47e-01],\n",
       "       [3.47e+02, 4.67e+02, 4.36e+01, 1.35e+01, 4.91e+00, 4.25e+00],\n",
       "       [3.67e+02, 2.22e+02, 3.97e+02, 1.89e+01, 8.01e+00, 1.38e+01],\n",
       "       [4.71e+01, 5.33e+00, 2.86e+00, 2.38e+02, 2.47e+00, 5.95e-01],\n",
       "       [1.94e+02, 1.62e+02, 9.70e+01, 5.24e+01, 1.11e+02, 1.47e+01],\n",
       "       [1.90e+02, 1.24e+02, 1.30e+02, 9.25e+01, 3.36e+01, 1.60e+02]])"
      ]
     },
     "execution_count": 60,
     "metadata": {},
     "output_type": "execute_result"
    }
   ],
   "source": [
    "eagleton_footprint_full = np.dot(np.dot(np.diagflat(e.values), L), np.diag(y_eagleton))"
   ]
  },
  {
   "cell_type": "markdown",
   "metadata": {},
   "source": [
    "This is actually a $[6,6]$ array of Eagleton's total footprint. The columns are the products and the rows are the breakdown of the supply chain - what industries are involved in making the product.\n",
    "\n",
    "You'll notice that you used ```np.diag(y_eagleton)``` rather than ```np.diagflat(y_eagleton)```. The reason for this is because when you select a single column from a matrix, python sees this as having zero width, just length and we have to use a different function. \n",
    "\n",
    "You'll also notice that we are refering to ```e.values``` before we diagonalise it. This is simply to make the calculation work with elements that are all arrays (rather than dataframes).\n",
    "\n",
    "It's annoying but the above code should work for you. \n",
    "\n",
    "Now make ```eagleton_footprint_full``` into a dataframe:\n",
    "\n",
    "```python\n",
    "eagleton_footprint_full = pd.DataFrame(eagleton_footprint_full, index=sectors, columns=sectors)\n",
    "```"
   ]
  },
  {
   "cell_type": "code",
   "execution_count": 61,
   "metadata": {},
   "outputs": [
    {
     "data": {
      "text/html": [
       "<div>\n",
       "<style scoped>\n",
       "    .dataframe tbody tr th:only-of-type {\n",
       "        vertical-align: middle;\n",
       "    }\n",
       "\n",
       "    .dataframe tbody tr th {\n",
       "        vertical-align: top;\n",
       "    }\n",
       "\n",
       "    .dataframe thead th {\n",
       "        text-align: right;\n",
       "    }\n",
       "</style>\n",
       "<table border=\"1\" class=\"dataframe\">\n",
       "  <thead>\n",
       "    <tr style=\"text-align: right;\">\n",
       "      <th></th>\n",
       "      <th>Eagleton Food</th>\n",
       "      <th>Eagleton Machines</th>\n",
       "      <th>Eagleton Energy</th>\n",
       "      <th>Pawnee Food</th>\n",
       "      <th>Pawnee Machines</th>\n",
       "      <th>Pawnee Energy</th>\n",
       "    </tr>\n",
       "  </thead>\n",
       "  <tbody>\n",
       "    <tr>\n",
       "      <th>Eagleton Food</th>\n",
       "      <td>858.795113</td>\n",
       "      <td>6.704774</td>\n",
       "      <td>1.673607</td>\n",
       "      <td>9.167497</td>\n",
       "      <td>0.319417</td>\n",
       "      <td>0.246643</td>\n",
       "    </tr>\n",
       "    <tr>\n",
       "      <th>Eagleton Machines</th>\n",
       "      <td>347.366676</td>\n",
       "      <td>467.464696</td>\n",
       "      <td>43.644197</td>\n",
       "      <td>13.529921</td>\n",
       "      <td>4.905354</td>\n",
       "      <td>4.252255</td>\n",
       "    </tr>\n",
       "    <tr>\n",
       "      <th>Eagleton Energy</th>\n",
       "      <td>367.461070</td>\n",
       "      <td>222.124671</td>\n",
       "      <td>396.910395</td>\n",
       "      <td>18.872673</td>\n",
       "      <td>8.006738</td>\n",
       "      <td>13.793595</td>\n",
       "    </tr>\n",
       "    <tr>\n",
       "      <th>Pawnee Food</th>\n",
       "      <td>47.134515</td>\n",
       "      <td>5.328787</td>\n",
       "      <td>2.861154</td>\n",
       "      <td>238.448912</td>\n",
       "      <td>2.468680</td>\n",
       "      <td>0.594996</td>\n",
       "    </tr>\n",
       "    <tr>\n",
       "      <th>Pawnee Machines</th>\n",
       "      <td>194.120382</td>\n",
       "      <td>162.194593</td>\n",
       "      <td>96.982079</td>\n",
       "      <td>52.415932</td>\n",
       "      <td>110.723850</td>\n",
       "      <td>14.652393</td>\n",
       "    </tr>\n",
       "    <tr>\n",
       "      <th>Pawnee Energy</th>\n",
       "      <td>190.177775</td>\n",
       "      <td>124.104578</td>\n",
       "      <td>130.205276</td>\n",
       "      <td>92.490689</td>\n",
       "      <td>33.598866</td>\n",
       "      <td>159.881113</td>\n",
       "    </tr>\n",
       "  </tbody>\n",
       "</table>\n",
       "</div>"
      ],
      "text/plain": [
       "                   Eagleton Food  Eagleton Machines  Eagleton Energy  \\\n",
       "Eagleton Food         858.795113           6.704774         1.673607   \n",
       "Eagleton Machines     347.366676         467.464696        43.644197   \n",
       "Eagleton Energy       367.461070         222.124671       396.910395   \n",
       "Pawnee Food            47.134515           5.328787         2.861154   \n",
       "Pawnee Machines       194.120382         162.194593        96.982079   \n",
       "Pawnee Energy         190.177775         124.104578       130.205276   \n",
       "\n",
       "                   Pawnee Food  Pawnee Machines  Pawnee Energy  \n",
       "Eagleton Food         9.167497         0.319417       0.246643  \n",
       "Eagleton Machines    13.529921         4.905354       4.252255  \n",
       "Eagleton Energy      18.872673         8.006738      13.793595  \n",
       "Pawnee Food         238.448912         2.468680       0.594996  \n",
       "Pawnee Machines      52.415932       110.723850      14.652393  \n",
       "Pawnee Energy        92.490689        33.598866     159.881113  "
      ]
     },
     "execution_count": 61,
     "metadata": {},
     "output_type": "execute_result"
    }
   ],
   "source": [
    "eagleton_footprint_full = pd.DataFrame(eagleton_footprint_full, index=sectors, columns=sectors)"
   ]
  },
  {
   "cell_type": "markdown",
   "metadata": {},
   "source": [
    "## Exercise 4.6: What does this result matrix mean?\n",
    "\n",
    "What happens if you sum down the columns of ```eagleton_footprint_full```, remember to sum down the columns, use ```0``` as the dimension with ```np.sum```"
   ]
  },
  {
   "cell_type": "code",
   "execution_count": 63,
   "metadata": {},
   "outputs": [
    {
     "data": {
      "text/plain": [
       "Eagleton Food        2005.055530\n",
       "Eagleton Machines     987.922098\n",
       "Eagleton Energy       672.276709\n",
       "Pawnee Food           424.925623\n",
       "Pawnee Machines       160.022905\n",
       "Pawnee Energy         193.420995\n",
       "dtype: float64"
      ]
     },
     "execution_count": 63,
     "metadata": {},
     "output_type": "execute_result"
    }
   ],
   "source": [
    "np.sum(eagleton_footprint_full,0)"
   ]
  },
  {
   "cell_type": "markdown",
   "metadata": {},
   "source": [
    "Where have you seen these numbers before? Scroll up and check <b>Exercise 4.4</b>. You should notice that the column sum is the product footprint.\n",
    "\n",
    "Try \n",
    "```python\n",
    "eagleton_footprint_full.loc['Pawnee Energy','Eagleton Machines']\n",
    "```"
   ]
  },
  {
   "cell_type": "code",
   "execution_count": 64,
   "metadata": {},
   "outputs": [
    {
     "data": {
      "text/plain": [
       "124.10"
      ]
     },
     "execution_count": 64,
     "metadata": {},
     "output_type": "execute_result"
    }
   ],
   "source": [
    "eagleton_footprint_full.loc['Pawnee Energy','Eagleton Machines']"
   ]
  },
  {
   "cell_type": "markdown",
   "metadata": {},
   "source": [
    "This refers to the 124 tonnes of GHGs that are burnt making the Pawnee Energy that is part of the supply chain of the Eagleton Machines that are purchased as final demand by the people of Eagleton!\n",
    "\n",
    "Complicated?\n",
    "\n",
    "Yes\n",
    "\n",
    "Can you write a single line of code to make a dataframe of Pawnee's emissions by source industry and end product? Call the result ```pawnee_footprint_full```"
   ]
  },
  {
   "cell_type": "code",
   "execution_count": 67,
   "metadata": {},
   "outputs": [
    {
     "data": {
      "text/html": [
       "<div>\n",
       "<style scoped>\n",
       "    .dataframe tbody tr th:only-of-type {\n",
       "        vertical-align: middle;\n",
       "    }\n",
       "\n",
       "    .dataframe tbody tr th {\n",
       "        vertical-align: top;\n",
       "    }\n",
       "\n",
       "    .dataframe thead th {\n",
       "        text-align: right;\n",
       "    }\n",
       "</style>\n",
       "<table border=\"1\" class=\"dataframe\">\n",
       "  <thead>\n",
       "    <tr style=\"text-align: right;\">\n",
       "      <th></th>\n",
       "      <th>Eagleton Food</th>\n",
       "      <th>Eagleton Machines</th>\n",
       "      <th>Eagleton Energy</th>\n",
       "      <th>Pawnee Food</th>\n",
       "      <th>Pawnee Machines</th>\n",
       "      <th>Pawnee Energy</th>\n",
       "    </tr>\n",
       "  </thead>\n",
       "  <tbody>\n",
       "    <tr>\n",
       "      <th>Eagleton Food</th>\n",
       "      <td>74.677836</td>\n",
       "      <td>0.352883</td>\n",
       "      <td>0.076073</td>\n",
       "      <td>26.585741</td>\n",
       "      <td>0.709816</td>\n",
       "      <td>0.690601</td>\n",
       "    </tr>\n",
       "    <tr>\n",
       "      <th>Eagleton Machines</th>\n",
       "      <td>30.205798</td>\n",
       "      <td>24.603405</td>\n",
       "      <td>1.983827</td>\n",
       "      <td>39.236771</td>\n",
       "      <td>10.900786</td>\n",
       "      <td>11.906314</td>\n",
       "    </tr>\n",
       "    <tr>\n",
       "      <th>Eagleton Energy</th>\n",
       "      <td>31.953136</td>\n",
       "      <td>11.690772</td>\n",
       "      <td>18.041382</td>\n",
       "      <td>54.730752</td>\n",
       "      <td>17.792751</td>\n",
       "      <td>38.622065</td>\n",
       "    </tr>\n",
       "    <tr>\n",
       "      <th>Pawnee Food</th>\n",
       "      <td>4.098653</td>\n",
       "      <td>0.280462</td>\n",
       "      <td>0.130052</td>\n",
       "      <td>691.501844</td>\n",
       "      <td>5.485956</td>\n",
       "      <td>1.665989</td>\n",
       "    </tr>\n",
       "    <tr>\n",
       "      <th>Pawnee Machines</th>\n",
       "      <td>16.880033</td>\n",
       "      <td>8.536558</td>\n",
       "      <td>4.408276</td>\n",
       "      <td>152.006202</td>\n",
       "      <td>246.053000</td>\n",
       "      <td>41.026701</td>\n",
       "    </tr>\n",
       "    <tr>\n",
       "      <th>Pawnee Energy</th>\n",
       "      <td>16.537198</td>\n",
       "      <td>6.531820</td>\n",
       "      <td>5.918422</td>\n",
       "      <td>268.222999</td>\n",
       "      <td>74.664147</td>\n",
       "      <td>447.667118</td>\n",
       "    </tr>\n",
       "  </tbody>\n",
       "</table>\n",
       "</div>"
      ],
      "text/plain": [
       "                   Eagleton Food  Eagleton Machines  Eagleton Energy  \\\n",
       "Eagleton Food          74.677836           0.352883         0.076073   \n",
       "Eagleton Machines      30.205798          24.603405         1.983827   \n",
       "Eagleton Energy        31.953136          11.690772        18.041382   \n",
       "Pawnee Food             4.098653           0.280462         0.130052   \n",
       "Pawnee Machines        16.880033           8.536558         4.408276   \n",
       "Pawnee Energy          16.537198           6.531820         5.918422   \n",
       "\n",
       "                   Pawnee Food  Pawnee Machines  Pawnee Energy  \n",
       "Eagleton Food        26.585741         0.709816       0.690601  \n",
       "Eagleton Machines    39.236771        10.900786      11.906314  \n",
       "Eagleton Energy      54.730752        17.792751      38.622065  \n",
       "Pawnee Food         691.501844         5.485956       1.665989  \n",
       "Pawnee Machines     152.006202       246.053000      41.026701  \n",
       "Pawnee Energy       268.222999        74.664147     447.667118  "
      ]
     },
     "execution_count": 67,
     "metadata": {},
     "output_type": "execute_result"
    }
   ],
   "source": [
    "pawnee_footprint_full = pd.DataFrame(np.dot(np.dot(np.diagflat(e.values), L), np.diag(y_pawnee)),index=sectors, columns=sectors)"
   ]
  },
  {
   "cell_type": "markdown",
   "metadata": {},
   "source": [
    "What happens if you find the row sum of both ```eagleton_footprint_full``` and ```pawnee_footprint_full```? Try\n",
    "\n",
    "```python\n",
    "np.sum(eagleton_footprint_full,1)+np.sum(pawnee_footprint_full,1)\n",
    "```"
   ]
  },
  {
   "cell_type": "code",
   "execution_count": 68,
   "metadata": {},
   "outputs": [
    {
     "data": {
      "text/plain": [
       "Eagleton Food         980.0\n",
       "Eagleton Machines    1000.0\n",
       "Eagleton Energy      1200.0\n",
       "Pawnee Food          1000.0\n",
       "Pawnee Machines      1100.0\n",
       "Pawnee Energy        1550.0\n",
       "dtype: float64"
      ]
     },
     "execution_count": 68,
     "metadata": {},
     "output_type": "execute_result"
    }
   ],
   "source": [
    "np.sum(eagleton_footprint_full,1)+np.sum(pawnee_footprint_full,1)"
   ]
  },
  {
   "cell_type": "markdown",
   "metadata": {},
   "source": [
    "Do these numbers look familiar? \n",
    "\n",
    "You should find that this is our original $\\textbf{f}$ the vector of emissions from production. \n",
    "\n",
    "Production emissions get distributed across the rows. \n",
    "\n",
    "Or in other words, you can see the contribution that each industry makes to the production of each product (column)."
   ]
  },
  {
   "cell_type": "markdown",
   "metadata": {},
   "source": [
    "## Exercise 4.7: Graphing consumption emissions by source region\n",
    "\n",
    "Let's create a dataframe that tells us the emissions from Eagleton's consumption that are sourced domestically and those that are sourced from Pawnee. And the emissions from Pawnee's consumption that are sourced domestically and those that are sourced from Eagleton.\n",
    "\n",
    "Your finished table is going to look like this:\n",
    "\n",
    "<img src=\"https://github.com/earao/images/blob/main/Screenshot%202023-12-08%20at%2020.23.26.png?raw=true\" width=300 height=120 />\n",
    "\n",
    "First we make a $2$ by $2$ array of zeros to hold the data:\n",
    "\n",
    "```python\n",
    "data = np.zeros((2,2))\n",
    "```"
   ]
  },
  {
   "cell_type": "code",
   "execution_count": 69,
   "metadata": {},
   "outputs": [
    {
     "data": {
      "text/plain": [
       "array([[0., 0.],\n",
       "       [0., 0.]])"
      ]
     },
     "execution_count": 69,
     "metadata": {},
     "output_type": "execute_result"
    }
   ],
   "source": [
    "data = np.zeros((2,2))"
   ]
  },
  {
   "cell_type": "markdown",
   "metadata": {},
   "source": [
    "Now lets make our row headings:\n",
    "\n",
    "```python\n",
    "index = ['Eagleton CBA', 'Pawnee CBA']\n",
    "```"
   ]
  },
  {
   "cell_type": "code",
   "execution_count": 70,
   "metadata": {},
   "outputs": [
    {
     "data": {
      "text/plain": [
       "['Eagleton CBA', 'Pawnee CBA']"
      ]
     },
     "execution_count": 70,
     "metadata": {},
     "output_type": "execute_result"
    }
   ],
   "source": [
    "index = ['Eagleton CBA', 'Pawnee CBA']"
   ]
  },
  {
   "cell_type": "markdown",
   "metadata": {},
   "source": [
    "And the column headings:\n",
    "\n",
    "```python\n",
    "columns = ['domestic', 'imports']\n",
    "```"
   ]
  },
  {
   "cell_type": "code",
   "execution_count": 71,
   "metadata": {},
   "outputs": [
    {
     "data": {
      "text/plain": [
       "['domestic', 'imports']"
      ]
     },
     "execution_count": 71,
     "metadata": {},
     "output_type": "execute_result"
    }
   ],
   "source": [
    "columns = ['domestic', 'imports']"
   ]
  },
  {
   "cell_type": "markdown",
   "metadata": {},
   "source": [
    "Now we sum the emissions from Eagleton' consumption that are sourced domestically and place this in the upper left cell of the data array. These are the emissions in ```eagleton_footprint_full``` that occur in the <b>rows</b> that represent Eagleton's industries. Try:\n",
    "\n",
    "```python\n",
    "data[0,0] = np.sum(np.sum(eagleton_footprint_full.loc['Eagleton Food':'Eagleton Energy',:],0),0)\n",
    "data\n",
    "```\n",
    "it's ok to have two lines of code in one box."
   ]
  },
  {
   "cell_type": "code",
   "execution_count": 73,
   "metadata": {},
   "outputs": [
    {
     "data": {
      "text/plain": [
       "array([[2785.24,    0.  ],\n",
       "       [   0.  ,    0.  ]])"
      ]
     },
     "execution_count": 73,
     "metadata": {},
     "output_type": "execute_result"
    }
   ],
   "source": [
    "data[0,0] = np.sum(np.sum(eagleton_footprint_full.loc['Eagleton Food':'Eagleton Energy',:],0),0)\n",
    "data"
   ]
  },
  {
   "cell_type": "markdown",
   "metadata": {},
   "source": [
    "Can you write code for the top right to calculate the emissions from Eagleton's consumption that are imported?"
   ]
  },
  {
   "cell_type": "code",
   "execution_count": 74,
   "metadata": {},
   "outputs": [
    {
     "data": {
      "text/plain": [
       "array([[2785.24, 1658.38],\n",
       "       [   0.  ,    0.  ]])"
      ]
     },
     "execution_count": 74,
     "metadata": {},
     "output_type": "execute_result"
    }
   ],
   "source": [
    "data[0,1] = np.sum(np.sum(eagleton_footprint_full.loc['Pawnee Food':'Pawnee Energy',:],0),0)\n",
    "data"
   ]
  },
  {
   "cell_type": "markdown",
   "metadata": {},
   "source": [
    "Now write two further lines of code to fill in the bottom row. Make sure the bottom left is the emissions sourced from Pawnee that are consumed by Pawnee! \n",
    "\n",
    "Remember to use your other 'footprint_full' dataframe for Pawnee's total footprint."
   ]
  },
  {
   "cell_type": "code",
   "execution_count": 75,
   "metadata": {},
   "outputs": [
    {
     "data": {
      "text/plain": [
       "array([[2785.24, 1658.38],\n",
       "       [1991.62,    0.  ]])"
      ]
     },
     "execution_count": 75,
     "metadata": {},
     "output_type": "execute_result"
    }
   ],
   "source": [
    "data[1,0] = np.sum(np.sum(pawnee_footprint_full.loc['Pawnee Food':'Pawnee Energy',:],0),0)\n",
    "data"
   ]
  },
  {
   "cell_type": "code",
   "execution_count": 76,
   "metadata": {},
   "outputs": [
    {
     "data": {
      "text/plain": [
       "array([[2785.24, 1658.38],\n",
       "       [1991.62,  394.76]])"
      ]
     },
     "execution_count": 76,
     "metadata": {},
     "output_type": "execute_result"
    }
   ],
   "source": [
    "data[1,1] = np.sum(np.sum(pawnee_footprint_full.loc['Eagleton Food':'Eagleton Energy',:],0),0)\n",
    "data"
   ]
  },
  {
   "cell_type": "markdown",
   "metadata": {},
   "source": [
    "Now put it all together in your dataframe. Call the dataframe ```all_data```"
   ]
  },
  {
   "cell_type": "code",
   "execution_count": 79,
   "metadata": {},
   "outputs": [
    {
     "data": {
      "text/html": [
       "<div>\n",
       "<style scoped>\n",
       "    .dataframe tbody tr th:only-of-type {\n",
       "        vertical-align: middle;\n",
       "    }\n",
       "\n",
       "    .dataframe tbody tr th {\n",
       "        vertical-align: top;\n",
       "    }\n",
       "\n",
       "    .dataframe thead th {\n",
       "        text-align: right;\n",
       "    }\n",
       "</style>\n",
       "<table border=\"1\" class=\"dataframe\">\n",
       "  <thead>\n",
       "    <tr style=\"text-align: right;\">\n",
       "      <th></th>\n",
       "      <th>domestic</th>\n",
       "      <th>imports</th>\n",
       "    </tr>\n",
       "  </thead>\n",
       "  <tbody>\n",
       "    <tr>\n",
       "      <th>Eagleton CBA</th>\n",
       "      <td>2785.239291</td>\n",
       "      <td>1658.384570</td>\n",
       "    </tr>\n",
       "    <tr>\n",
       "      <th>Pawnee CBA</th>\n",
       "      <td>1991.615430</td>\n",
       "      <td>394.760709</td>\n",
       "    </tr>\n",
       "  </tbody>\n",
       "</table>\n",
       "</div>"
      ],
      "text/plain": [
       "                 domestic      imports\n",
       "Eagleton CBA  2785.239291  1658.384570\n",
       "Pawnee CBA    1991.615430   394.760709"
      ]
     },
     "execution_count": 79,
     "metadata": {},
     "output_type": "execute_result"
    }
   ],
   "source": [
    "all_data = pd.DataFrame(data,index = index, columns = columns)"
   ]
  },
  {
   "cell_type": "markdown",
   "metadata": {},
   "source": [
    "Make a stacked bar chart showing Eagleton and Pawnee's footprint by domestic and imported emissions"
   ]
  },
  {
   "cell_type": "code",
   "execution_count": 80,
   "metadata": {},
   "outputs": [
    {
     "data": {
      "text/plain": [
       "Text(0, 0.5, 'tonnes CO2')"
      ]
     },
     "execution_count": 80,
     "metadata": {},
     "output_type": "execute_result"
    },
    {
     "data": {
      "image/png": "[encoded data removed]",
      "text/plain": [
       "<Figure size 640x480 with 1 Axes>"
      ]
     },
     "metadata": {},
     "output_type": "display_data"
    }
   ],
   "source": [
    "chart = all_data.plot(kind='bar', stacked=True)\n",
    "chart.set_ylabel('tonnes CO2')"
   ]
  },
  {
   "cell_type": "markdown",
   "metadata": {},
   "source": [
    "You should have got a graph that looks like this:\n",
    "\n",
    "<img src=\"https://github.com/earao/images/blob/main/Screenshot%202023-12-08%20at%2020.23.45.png?raw=true\" width=500 height=400/>\n",
    "\n",
    "Can you see that Eagleton is reliant on imports, whereas Pawnee is a town which is more sufficient. Think about how you might expect the footprints of a developed versus developing country to look if you broke the emissions down by domestic and imports.\n",
    "\n",
    "## Key learning points\n",
    "\n",
    "You should have learnt:\n",
    "\n",
    "<ol>\n",
    "<li>How to make the individual matrix elements representing the transactions matrix, final demand and emissions</li>\n",
    "<li>How to make dataframes</li>\n",
    "<li>How to calculate e and L</li>\n",
    "<li>How to calculate total footprints, footprints by product and footprints by source industry and end product</li>\n",
    "<li>How to make bar charts and stacked bar charts of your results</li>\n",
    "   \n",
    "</ol>\n",
    "\n"
   ]
  },
  {
   "cell_type": "code",
   "execution_count": null,
   "metadata": {},
   "outputs": [],
   "source": []
  }
 ],
 "metadata": {
  "kernelspec": {
   "display_name": "Python 3 (ipykernel)",
   "language": "python",
   "name": "python3"
  },
  "language_info": {
   "codemirror_mode": {
    "name": "ipython",
    "version": 3
   },
   "file_extension": ".py",
   "mimetype": "text/x-python",
   "name": "python",
   "nbconvert_exporter": "python",
   "pygments_lexer": "ipython3",
   "version": "3.11.4"
  }
 },
 "nbformat": 4,
 "nbformat_minor": 4
}
